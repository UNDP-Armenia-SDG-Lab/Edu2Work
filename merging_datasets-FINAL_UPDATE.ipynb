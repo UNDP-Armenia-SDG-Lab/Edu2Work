{
 "cells": [
  {
   "cell_type": "markdown",
   "metadata": {},
   "source": [
    "# Merging staff.am and hr.am data"
   ]
  },
  {
   "cell_type": "markdown",
   "metadata": {},
   "source": [
    "In order to keep data consistency, it was decided to concatenate separate datasets one by one.\n",
    "In the following notebook, staff.am and hr.am datasets were combined, using several principles:\n",
    "\n",
    "     -keep features common for the most websites,\n",
    "     -drop features having large number of missing values and unique for current dataset,\n",
    "     -merging features having similar/same meanings(i.e. Prof Skills and Soft Skills are merged under \"Skills\")\n",
    "   "
   ]
  },
  {
   "cell_type": "code",
   "execution_count": 1,
   "metadata": {
    "ExecuteTime": {
     "end_time": "2019-12-02T15:39:16.165013Z",
     "start_time": "2019-12-02T15:39:14.984495Z"
    }
   },
   "outputs": [
    {
     "name": "stderr",
     "output_type": "stream",
     "text": [
      "C:\\Users\\Srbuhi\\Anaconda3\\lib\\site-packages\\fuzzywuzzy\\fuzz.py:11: UserWarning: Using slow pure-python SequenceMatcher. Install python-Levenshtein to remove this warning\n",
      "  warnings.warn('Using slow pure-python SequenceMatcher. Install python-Levenshtein to remove this warning')\n"
     ]
    }
   ],
   "source": [
    "import pandas as pd\n",
    "from bs4 import BeautifulSoup\n",
    "import datetime\n",
    "import pymongo\n",
    "from pymongo import MongoClient\n",
    "import json\n",
    "from itertools import chain\n",
    "import numpy as np\n",
    "from fuzzywuzzy import fuzz\n",
    "import ast\n"
   ]
  },
  {
   "cell_type": "code",
   "execution_count": 2,
   "metadata": {
    "ExecuteTime": {
     "end_time": "2019-12-02T15:39:16.180930Z",
     "start_time": "2019-12-02T15:39:16.170961Z"
    }
   },
   "outputs": [],
   "source": [
    "def read_from_mongoDB(database, collection): \n",
    "    client = MongoClient('localhost', 27017)\n",
    "    db = client[database]\n",
    "    coll = db[collection]\n",
    "    coll_df = pd.DataFrame(list(coll.find({})))\n",
    "    return coll_df"
   ]
  },
  {
   "cell_type": "code",
   "execution_count": 3,
   "metadata": {
    "ExecuteTime": {
     "end_time": "2019-12-02T15:39:20.507894Z",
     "start_time": "2019-12-02T15:39:18.464579Z"
    }
   },
   "outputs": [],
   "source": [
    "full=read_from_mongoDB(\"labor_market\",\"full_am\")\n",
    "hr_am=read_from_mongoDB(\"labor_market\",\"hr_am\")\n",
    "ijob_am=read_from_mongoDB(\"labor_market\",\"ijob_am\")\n",
    "job_am=read_from_mongoDB(\"labor_market\",\"job_am\")\n",
    "myjob_am=read_from_mongoDB(\"labor_market\",\"myjob\")\n",
    "staff_am=read_from_mongoDB(\"labor_market\",\"staff_am\")\n",
    "jobfinder=read_from_mongoDB(\"labor_market\",\"jobfinder_am\")\n",
    "career_center2=read_from_mongoDB(\"labor_market\",\"career_center2\")\n",
    "worknet=read_from_mongoDB(\"labor_market\",\"worknet_am\")"
   ]
  },
  {
   "cell_type": "markdown",
   "metadata": {},
   "source": [
    "# Staff.am"
   ]
  },
  {
   "cell_type": "markdown",
   "metadata": {},
   "source": [
    "The following features were dropped:\n",
    " - \"Website\",\"Active Jobs\",\"Job Description\",\"Job History\", \"Prof Skills\",\"Soft Skills\", \"Page Views\",\"Qualification\"\n",
    " \n",
    "      Website had no observations,\n",
    "      \"Job Description\"'s info is mostly contained in Job Content,thus the former was dropped.\n",
    "      \"Page Views\" contained info on total number of views of company job posting, which is not \n",
    "      relevant and not available for other websites, so it was dropped. \n",
    "      \"Active jobs\" is number of current postings of a company, which can be derived from scraped\n",
    "      data if needed.\n",
    "      \"Job History\"-not present elsewhere, so was dropped.\n",
    "      Soft and Prof skills were merged into one column and the separate features were dropped.\n",
    "      \"Qualification\" is 99.94% is contained in \"Job Content\", as revealed by FuzzyWuzzy ratio.\n",
    " -  \"Job Category\" was renamed to \"Employment Type\",\"Job Type\" to \"Job Industry\",\"Industry\"\n",
    "     to \"Company Industry\" to match actual meanings"
   ]
  },
  {
   "cell_type": "code",
   "execution_count": 4,
   "metadata": {
    "ExecuteTime": {
     "end_time": "2019-12-02T15:39:22.836120Z",
     "start_time": "2019-12-02T15:39:22.823156Z"
    }
   },
   "outputs": [
    {
     "data": {
      "text/plain": [
       "Index(['Active Jobs', 'Company', 'Deadline', 'Employment Term', 'Industry',\n",
       "       'Job Category', 'Job Content', 'Job Description', 'Job History',\n",
       "       'Job Link', 'Job Location', 'Job Title', 'Job Type', 'Job Views',\n",
       "       'Page Views', 'Prof Skills', 'Qualification', 'Salary', 'Scrape_Date',\n",
       "       'Soft Skills', 'Website', '_id'],\n",
       "      dtype='object')"
      ]
     },
     "execution_count": 4,
     "metadata": {},
     "output_type": "execute_result"
    }
   ],
   "source": [
    "staff_am.columns"
   ]
  },
  {
   "cell_type": "code",
   "execution_count": 5,
   "metadata": {
    "ExecuteTime": {
     "end_time": "2019-12-02T15:39:23.847349Z",
     "start_time": "2019-12-02T15:39:23.811411Z"
    }
   },
   "outputs": [
    {
     "data": {
      "text/html": [
       "<div>\n",
       "<style scoped>\n",
       "    .dataframe tbody tr th:only-of-type {\n",
       "        vertical-align: middle;\n",
       "    }\n",
       "\n",
       "    .dataframe tbody tr th {\n",
       "        vertical-align: top;\n",
       "    }\n",
       "\n",
       "    .dataframe thead th {\n",
       "        text-align: right;\n",
       "    }\n",
       "</style>\n",
       "<table border=\"1\" class=\"dataframe\">\n",
       "  <thead>\n",
       "    <tr style=\"text-align: right;\">\n",
       "      <th></th>\n",
       "      <th>Job Description</th>\n",
       "      <th>Job Content</th>\n",
       "    </tr>\n",
       "  </thead>\n",
       "  <tbody>\n",
       "    <tr>\n",
       "      <th>2113</th>\n",
       "      <td>We are looking for a Receptionist to manage ou...</td>\n",
       "      <td>['\\nWe are looking for a Receptionist to manag...</td>\n",
       "    </tr>\n",
       "    <tr>\n",
       "      <th>4385</th>\n",
       "      <td>all.me is an international IT company with hea...</td>\n",
       "      <td>[\\nall.me is an international IT company with ...</td>\n",
       "    </tr>\n",
       "    <tr>\n",
       "      <th>4447</th>\n",
       "      <td>None</td>\n",
       "      <td>[\\nՀՀ կրթության, գիտության, մշակույթի և սպորտի...</td>\n",
       "    </tr>\n",
       "    <tr>\n",
       "      <th>2109</th>\n",
       "      <td>At DISQO we believe the best software is writt...</td>\n",
       "      <td>['\\nAt DISQO we believe the best software is w...</td>\n",
       "    </tr>\n",
       "    <tr>\n",
       "      <th>2235</th>\n",
       "      <td>Միջազգային բեռնափոխադրում իրականացնող ընկերութ...</td>\n",
       "      <td>['\\nՄիջազգային բեռնափոխադրում իրականացնող ընկե...</td>\n",
       "    </tr>\n",
       "  </tbody>\n",
       "</table>\n",
       "</div>"
      ],
      "text/plain": [
       "                                        Job Description  \\\n",
       "2113  We are looking for a Receptionist to manage ou...   \n",
       "4385  all.me is an international IT company with hea...   \n",
       "4447                                               None   \n",
       "2109  At DISQO we believe the best software is writt...   \n",
       "2235  Միջազգային բեռնափոխադրում իրականացնող ընկերութ...   \n",
       "\n",
       "                                            Job Content  \n",
       "2113  ['\\nWe are looking for a Receptionist to manag...  \n",
       "4385  [\\nall.me is an international IT company with ...  \n",
       "4447  [\\nՀՀ կրթության, գիտության, մշակույթի և սպորտի...  \n",
       "2109  ['\\nAt DISQO we believe the best software is w...  \n",
       "2235  ['\\nՄիջազգային բեռնափոխադրում իրականացնող ընկե...  "
      ]
     },
     "execution_count": 5,
     "metadata": {},
     "output_type": "execute_result"
    }
   ],
   "source": [
    "#Job Description and Job Content are in fact same thing,\n",
    "#manual exlporation showed that Job Description is just the first sentence of Job Content.\n",
    "staff_am[[\"Job Description\",\"Job Content\"]][staff_am[\"Job Description\"]!=\"['Issue']\"].sample(5)"
   ]
  },
  {
   "cell_type": "code",
   "execution_count": 6,
   "metadata": {
    "ExecuteTime": {
     "end_time": "2019-12-02T15:39:31.782404Z",
     "start_time": "2019-12-02T15:39:31.773426Z"
    }
   },
   "outputs": [
    {
     "name": "stdout",
     "output_type": "stream",
     "text": [
      "Percentage of missing values in 'Website'column:100.0%\n"
     ]
    }
   ],
   "source": [
    "#Website has no non-missing value\n",
    "website=(staff_am[\"Website\"].isna().sum()+(staff_am[\"Website\"]==\"\").sum())/len(staff_am)*100\n",
    "print(f\"Percentage of missing values in 'Website'column:{website.round(2)}%\",)"
   ]
  },
  {
   "cell_type": "code",
   "execution_count": 7,
   "metadata": {
    "ExecuteTime": {
     "end_time": "2019-12-02T15:39:37.370321Z",
     "start_time": "2019-12-02T15:39:35.035563Z"
    }
   },
   "outputs": [],
   "source": [
    "#getting rid of exceptions scraped as \"['Issue']\"\n",
    "for index, row in staff_am.iterrows():\n",
    "    for i in staff_am.columns:\n",
    "        if row[i]==\"['Issue']\":\n",
    "            row[i]=\"\""
   ]
  },
  {
   "cell_type": "code",
   "execution_count": 8,
   "metadata": {
    "ExecuteTime": {
     "end_time": "2019-12-02T15:39:38.040915Z",
     "start_time": "2019-12-02T15:39:38.010290Z"
    }
   },
   "outputs": [],
   "source": [
    "#Merging Prof Skills and Soft Skills into one\n",
    "staff_am[\"Prof Skills\"]=staff_am[\"Prof Skills\"].apply(lambda x:str(x).replace(\"[\",\"\").replace(\"]\",\"\"))\n",
    "staff_am[\"Soft Skills\"]=staff_am[\"Soft Skills\"].apply(lambda x:str(x).replace(\"[\",\"\").replace(\"]\",\"\"))\n",
    "staff_am[\"Skills\"]=staff_am.loc[:,[\"Prof Skills\",\"Soft Skills\"]].sum(axis=1)"
   ]
  },
  {
   "cell_type": "code",
   "execution_count": 9,
   "metadata": {
    "ExecuteTime": {
     "end_time": "2019-12-02T15:39:39.791593Z",
     "start_time": "2019-12-02T15:39:39.773601Z"
    }
   },
   "outputs": [],
   "source": [
    "#Renaming features to express the exact meaning presented on the website\n",
    "staff_am.rename(columns={\"Job Category\":\"Employment Type\",\"Job Type\":\"Job Industry\",\"Industry\":\"Company Industry\"}, inplace=True)"
   ]
  },
  {
   "cell_type": "code",
   "execution_count": 10,
   "metadata": {
    "ExecuteTime": {
     "end_time": "2019-12-02T15:39:42.453741Z",
     "start_time": "2019-12-02T15:39:41.420391Z"
    }
   },
   "outputs": [],
   "source": [
    "#making strings\n",
    "staff_am[\"Job Content\"]=staff_am[\"Job Content\"].fillna(\"\").apply(lambda x:\"\".join(x).replace(\"[\",\"\").replace(\"]\",\"\"))\n",
    "staff_am[\"Qualification\"]=staff_am[\"Qualification\"].fillna(\"\").apply(lambda x:\"\".join(x).replace(\"[\",\"\").replace(\"]\",\"\"))\n",
    "staff_am[\"Salary\"]=staff_am[\"Salary\"].fillna(\"\").apply(lambda x:\"\".join(x).replace(\"[\",\"\").replace(\"]\",\"\"))"
   ]
  },
  {
   "cell_type": "code",
   "execution_count": 11,
   "metadata": {
    "ExecuteTime": {
     "end_time": "2019-12-02T15:39:43.310392Z",
     "start_time": "2019-12-02T15:39:43.302770Z"
    }
   },
   "outputs": [],
   "source": [
    "#making full link\n",
    "staff_am[\"Job Link\"]=staff_am[\"Job Link\"].apply(lambda x:\"https://staff.am\"+x)"
   ]
  },
  {
   "cell_type": "code",
   "execution_count": 12,
   "metadata": {
    "ExecuteTime": {
     "end_time": "2019-12-02T15:39:44.818075Z",
     "start_time": "2019-12-02T15:39:44.191683Z"
    }
   },
   "outputs": [],
   "source": [
    "#filling empty strings with NaNs and then replacing them with None\n",
    "staff_am=staff_am.replace(r'^\\s*$', np.nan, regex=True)"
   ]
  },
  {
   "cell_type": "code",
   "execution_count": 13,
   "metadata": {
    "ExecuteTime": {
     "end_time": "2019-12-02T15:39:45.966755Z",
     "start_time": "2019-12-02T15:39:45.913898Z"
    }
   },
   "outputs": [],
   "source": [
    "staff_am=staff_am.where(staff_am.notna(),None)"
   ]
  },
  {
   "cell_type": "code",
   "execution_count": 14,
   "metadata": {
    "ExecuteTime": {
     "end_time": "2019-12-02T15:40:26.236879Z",
     "start_time": "2019-12-02T15:39:47.183927Z"
    }
   },
   "outputs": [
    {
     "name": "stdout",
     "output_type": "stream",
     "text": [
      "Qualification    'BD Expert Evaluation', 'Analysis and appraisa...\n",
      "Job Content      '\\nall.me is an international IT company with ...\n",
      "Name: 141, dtype: object\n",
      "______________________________________________\n",
      "Qualification    'BD Expert Evaluation', 'Analysis and appraisa...\n",
      "Job Content      '\\nall.me is an international IT company with ...\n",
      "Name: 1054, dtype: object\n",
      "______________________________________________\n",
      "Qualification    'Data collection,', 'Data analysis,', 'Support...\n",
      "Job Content      '\\nWe are looking for an intern, an energetic,...\n",
      "Name: 2936, dtype: object\n",
      "______________________________________________\n",
      "Percentage of Qualifications Not contained in Job Content: 0.061703002879473466\n"
     ]
    }
   ],
   "source": [
    "#Let's see what percentage of Non-Null Qualification is contained in Job Content\n",
    "ans=0\n",
    "for index,row in staff_am.iterrows():\n",
    "    if row[\"Qualification\"] is not None or \"\" and row[\"Job Content\"] is not None or \"\":\n",
    "        Ratio = fuzz.ratio(row[\"Qualification\"].lower(),row[\"Job Content\"].lower())\n",
    "        if Ratio==0:\n",
    "            print(row[[\"Qualification\",\"Job Content\"]])\n",
    "            print(\"______________________________________________\")\n",
    "            ans+=1\n",
    "print(\"Percentage of Qualifications Not contained in Job Content:\",(ans/len(staff_am)*100))"
   ]
  },
  {
   "cell_type": "code",
   "execution_count": 15,
   "metadata": {
    "ExecuteTime": {
     "end_time": "2019-12-02T15:40:30.180669Z",
     "start_time": "2019-12-02T15:40:30.170837Z"
    }
   },
   "outputs": [],
   "source": [
    "#Dropping the noted features\n",
    "staff_am.drop([\"Website\",\"Active Jobs\",\"Job Description\",\"Job History\", \"Prof Skills\",\"Soft Skills\", \"Page Views\", \"Qualification\"], axis=1, inplace=True)"
   ]
  },
  {
   "cell_type": "code",
   "execution_count": 16,
   "metadata": {
    "ExecuteTime": {
     "end_time": "2019-12-02T15:40:30.948509Z",
     "start_time": "2019-12-02T15:40:30.926567Z"
    }
   },
   "outputs": [
    {
     "name": "stdout",
     "output_type": "stream",
     "text": [
      "<class 'pandas.core.frame.DataFrame'>\n",
      "RangeIndex: 4862 entries, 0 to 4861\n",
      "Data columns (total 15 columns):\n",
      "Company             4849 non-null object\n",
      "Deadline            4849 non-null object\n",
      "Employment Term     4849 non-null object\n",
      "Company Industry    4542 non-null object\n",
      "Employment Type     4849 non-null object\n",
      "Job Content         4849 non-null object\n",
      "Job Link            4862 non-null object\n",
      "Job Location        4835 non-null object\n",
      "Job Title           4849 non-null object\n",
      "Job Industry        4849 non-null object\n",
      "Job Views           4849 non-null object\n",
      "Salary              3628 non-null object\n",
      "Scrape_Date         603 non-null object\n",
      "_id                 4862 non-null object\n",
      "Skills              4796 non-null object\n",
      "dtypes: object(15)\n",
      "memory usage: 569.8+ KB\n"
     ]
    }
   ],
   "source": [
    "staff_am.info()"
   ]
  },
  {
   "cell_type": "code",
   "execution_count": 17,
   "metadata": {
    "ExecuteTime": {
     "end_time": "2019-12-02T15:40:31.494019Z",
     "start_time": "2019-12-02T15:40:31.470070Z"
    }
   },
   "outputs": [
    {
     "data": {
      "text/html": [
       "<div>\n",
       "<style scoped>\n",
       "    .dataframe tbody tr th:only-of-type {\n",
       "        vertical-align: middle;\n",
       "    }\n",
       "\n",
       "    .dataframe tbody tr th {\n",
       "        vertical-align: top;\n",
       "    }\n",
       "\n",
       "    .dataframe thead th {\n",
       "        text-align: right;\n",
       "    }\n",
       "</style>\n",
       "<table border=\"1\" class=\"dataframe\">\n",
       "  <thead>\n",
       "    <tr style=\"text-align: right;\">\n",
       "      <th></th>\n",
       "      <th>Company</th>\n",
       "      <th>Deadline</th>\n",
       "      <th>Employment Term</th>\n",
       "      <th>Company Industry</th>\n",
       "      <th>Employment Type</th>\n",
       "      <th>Job Content</th>\n",
       "      <th>Job Link</th>\n",
       "      <th>Job Location</th>\n",
       "      <th>Job Title</th>\n",
       "      <th>Job Industry</th>\n",
       "      <th>Job Views</th>\n",
       "      <th>Salary</th>\n",
       "      <th>Scrape_Date</th>\n",
       "      <th>_id</th>\n",
       "      <th>Skills</th>\n",
       "    </tr>\n",
       "  </thead>\n",
       "  <tbody>\n",
       "    <tr>\n",
       "      <th>0</th>\n",
       "      <td>Mamble</td>\n",
       "      <td>27 July 2019</td>\n",
       "      <td>Permanent</td>\n",
       "      <td>Information technologies</td>\n",
       "      <td>Full time</td>\n",
       "      <td>'\\nDESCRIPTION\\nMamble seeks for a strong Fron...</td>\n",
       "      <td>https://staff.am/en/front-end-developer-112</td>\n",
       "      <td>Yerevan</td>\n",
       "      <td>Front-end Developer</td>\n",
       "      <td>Software development</td>\n",
       "      <td>100</td>\n",
       "      <td>None</td>\n",
       "      <td>None</td>\n",
       "      <td>5d15241ac8d3f9226842a407</td>\n",
       "      <td>'JavaScript Frameworks', 'JavaScript'</td>\n",
       "    </tr>\n",
       "    <tr>\n",
       "      <th>1</th>\n",
       "      <td>PicsArt</td>\n",
       "      <td>27 July 2019</td>\n",
       "      <td>Permanent</td>\n",
       "      <td>Information technologies</td>\n",
       "      <td>Full time</td>\n",
       "      <td>'\\nAs a QA Engineer at PicsArt, you’ll ensure ...</td>\n",
       "      <td>https://staff.am/en/qa-engineer-175</td>\n",
       "      <td>Yerevan</td>\n",
       "      <td>QA Engineer</td>\n",
       "      <td>Quality Assurance /Control</td>\n",
       "      <td>42</td>\n",
       "      <td>None</td>\n",
       "      <td>None</td>\n",
       "      <td>5d15241ac8d3f9226842a408</td>\n",
       "      <td>'Java', 'Python', 'QA', 'JavaScript'</td>\n",
       "    </tr>\n",
       "    <tr>\n",
       "      <th>2</th>\n",
       "      <td>PicsArt</td>\n",
       "      <td>27 July 2019</td>\n",
       "      <td>Permanent</td>\n",
       "      <td>Information technologies</td>\n",
       "      <td>Full time</td>\n",
       "      <td>'\\nPicsArt\\xa0is actively seeking for a talent...</td>\n",
       "      <td>https://staff.am/en/java-engineer</td>\n",
       "      <td>Yerevan</td>\n",
       "      <td>Java Engineer</td>\n",
       "      <td>Software development</td>\n",
       "      <td>65</td>\n",
       "      <td>None</td>\n",
       "      <td>None</td>\n",
       "      <td>5d15241ac8d3f9226842a409</td>\n",
       "      <td>'Python', 'Big Data'</td>\n",
       "    </tr>\n",
       "    <tr>\n",
       "      <th>3</th>\n",
       "      <td>Digitain</td>\n",
       "      <td>27 July 2019</td>\n",
       "      <td>Permanent</td>\n",
       "      <td>Information technologies</td>\n",
       "      <td>Full time</td>\n",
       "      <td>\"\\nDigitain is looking for a Procurement Speci...</td>\n",
       "      <td>https://staff.am/en/procurement-specialist-1</td>\n",
       "      <td>Yerevan</td>\n",
       "      <td>Procurement Specialist</td>\n",
       "      <td>Procurement/Logistics/Courier</td>\n",
       "      <td>74</td>\n",
       "      <td>email protected</td>\n",
       "      <td>None</td>\n",
       "      <td>5d15241ac8d3f9226842a40a</td>\n",
       "      <td>'Flexible', 'Detail-oriented', 'Multitasking'</td>\n",
       "    </tr>\n",
       "    <tr>\n",
       "      <th>4</th>\n",
       "      <td>PicsArt</td>\n",
       "      <td>27 July 2019</td>\n",
       "      <td>Permanent</td>\n",
       "      <td>Information technologies</td>\n",
       "      <td>Full time</td>\n",
       "      <td>'\\nAs a DevOps Engineer at PicsArt, you’ll hav...</td>\n",
       "      <td>https://staff.am/en/devops-engineer-63</td>\n",
       "      <td>Yerevan</td>\n",
       "      <td>DevOps Engineer</td>\n",
       "      <td>Software development</td>\n",
       "      <td>33</td>\n",
       "      <td>None</td>\n",
       "      <td>None</td>\n",
       "      <td>5d15241ac8d3f9226842a40b</td>\n",
       "      <td>'Python', 'DevOps', 'Big Data'</td>\n",
       "    </tr>\n",
       "  </tbody>\n",
       "</table>\n",
       "</div>"
      ],
      "text/plain": [
       "     Company      Deadline Employment Term           Company Industry  \\\n",
       "0     Mamble  27 July 2019       Permanent  Information technologies    \n",
       "1    PicsArt  27 July 2019       Permanent  Information technologies    \n",
       "2    PicsArt  27 July 2019       Permanent  Information technologies    \n",
       "3  Digitain   27 July 2019       Permanent  Information technologies    \n",
       "4    PicsArt  27 July 2019       Permanent  Information technologies    \n",
       "\n",
       "  Employment Type                                        Job Content  \\\n",
       "0      Full time   '\\nDESCRIPTION\\nMamble seeks for a strong Fron...   \n",
       "1      Full time   '\\nAs a QA Engineer at PicsArt, you’ll ensure ...   \n",
       "2      Full time   '\\nPicsArt\\xa0is actively seeking for a talent...   \n",
       "3      Full time   \"\\nDigitain is looking for a Procurement Speci...   \n",
       "4      Full time   '\\nAs a DevOps Engineer at PicsArt, you’ll hav...   \n",
       "\n",
       "                                       Job Link Job Location  \\\n",
       "0   https://staff.am/en/front-end-developer-112      Yerevan   \n",
       "1           https://staff.am/en/qa-engineer-175      Yerevan   \n",
       "2             https://staff.am/en/java-engineer      Yerevan   \n",
       "3  https://staff.am/en/procurement-specialist-1      Yerevan   \n",
       "4        https://staff.am/en/devops-engineer-63      Yerevan   \n",
       "\n",
       "                Job Title                   Job Industry Job Views  \\\n",
       "0     Front-end Developer           Software development       100   \n",
       "1             QA Engineer     Quality Assurance /Control        42   \n",
       "2           Java Engineer           Software development        65   \n",
       "3  Procurement Specialist  Procurement/Logistics/Courier        74   \n",
       "4         DevOps Engineer           Software development        33   \n",
       "\n",
       "            Salary Scrape_Date                       _id  \\\n",
       "0             None        None  5d15241ac8d3f9226842a407   \n",
       "1             None        None  5d15241ac8d3f9226842a408   \n",
       "2             None        None  5d15241ac8d3f9226842a409   \n",
       "3  email protected        None  5d15241ac8d3f9226842a40a   \n",
       "4             None        None  5d15241ac8d3f9226842a40b   \n",
       "\n",
       "                                          Skills  \n",
       "0          'JavaScript Frameworks', 'JavaScript'  \n",
       "1           'Java', 'Python', 'QA', 'JavaScript'  \n",
       "2                           'Python', 'Big Data'  \n",
       "3  'Flexible', 'Detail-oriented', 'Multitasking'  \n",
       "4                 'Python', 'DevOps', 'Big Data'  "
      ]
     },
     "execution_count": 17,
     "metadata": {},
     "output_type": "execute_result"
    }
   ],
   "source": [
    "staff_am.head()"
   ]
  },
  {
   "cell_type": "markdown",
   "metadata": {},
   "source": [
    "# HR.am"
   ]
  },
  {
   "cell_type": "markdown",
   "metadata": {},
   "source": [
    " The following features were dropped:\n",
    "  - \"Applications\", \"Benefits\", \"Education\",\"Languages\",\"Job Type\",\"Prof Skills\",\"Soft Skills\"\n",
    "    The first four either had many missing values or features that were not contained in other datasets.\n",
    "      \"Job Type\" has the same values as \"Job Title\", so it was dropped not to have duplicated columns.\n",
    "      \"Prof Skills\" and \"Soft Skills\"\n",
    "  - The following features were renamed:Job Description\":\"Job Content\",\"Qualification\":\"Job Industry\",\"Page Views\":\"Job Views\",\n",
    "     to match actual meanings\n",
    "    "
   ]
  },
  {
   "cell_type": "code",
   "execution_count": 18,
   "metadata": {
    "ExecuteTime": {
     "end_time": "2019-12-02T15:40:39.541562Z",
     "start_time": "2019-12-02T15:40:39.504042Z"
    }
   },
   "outputs": [
    {
     "name": "stdout",
     "output_type": "stream",
     "text": [
      "Percentage of missing values and 0s in 'Applications column':84.21%\n",
      "Percentage of missing values in 'Benefits'column:73.29%\n",
      "Percentage of missing values in Education 75.35 %\n",
      "Percentage of missing values in Languages: 60.58 %\n",
      "Percentage of same values in Job Title and Job Type: 99.93 %\n"
     ]
    }
   ],
   "source": [
    "apps=(hr_am[\"Applications\"].isna().sum()+(hr_am[\"Applications\"]==0).sum()+(hr_am[\"Applications\"]==\"0\").sum())/len(hr_am)*100\n",
    "print(f\"Percentage of missing values and 0s in 'Applications column':{apps.round(2)}%\",)\n",
    "benefs=(hr_am[\"Benefits\"].isna().sum()+(hr_am[\"Benefits\"]==\"[]\").sum())/len(hr_am)*100\n",
    "print(f\"Percentage of missing values in 'Benefits'column:{benefs.round(2)}%\",)\n",
    "print(\"Percentage of missing values in Education\",((hr_am.astype(str)['Education'] == '[]').sum()/len(hr_am)*100).round(2),\"%\")\n",
    "print(\"Percentage of missing values in Languages:\",(((hr_am[\"Languages\"]==\"[]\").sum()+hr_am[\"Languages\"].isna().sum())/len(hr_am)*100).round(2),\"%\")\n",
    "print(\"Percentage of same values in Job Title and Job Type:\",(((hr_am[\"Job Title\"]==hr_am[\"Job Type\"]).sum()/len(hr_am))*100).round(2),\"%\")"
   ]
  },
  {
   "cell_type": "code",
   "execution_count": 19,
   "metadata": {
    "ExecuteTime": {
     "end_time": "2019-12-02T15:40:58.238977Z",
     "start_time": "2019-12-02T15:40:58.215076Z"
    }
   },
   "outputs": [],
   "source": [
    "#merging Prof and Soft skills into Skills\n",
    "hr_am[\"Prof Skills\"]=hr_am[\"Prof Skills\"].apply(lambda x:str(x).replace(\"[\",\"\").replace(\"]\",\"\"))\n",
    "hr_am[\"Soft Skills\"]=hr_am[\"Soft Skills\"].apply(lambda x:str(x).replace(\"[\",\"\").replace(\"]\",\"\"))\n",
    "hr_am[\"Skills\"]=hr_am.loc[:,[\"Prof Skills\",\"Soft Skills\"]].sum(axis=1)"
   ]
  },
  {
   "cell_type": "code",
   "execution_count": 20,
   "metadata": {
    "ExecuteTime": {
     "end_time": "2019-12-02T15:41:00.678580Z",
     "start_time": "2019-12-02T15:41:00.665576Z"
    }
   },
   "outputs": [],
   "source": [
    "hr_am.drop([\"Applications\",\"Benefits\", \"Job Type\",\"Languages\",\"Education\",\"Prof Skills\",\"Soft Skills\"],axis=1,inplace=True)"
   ]
  },
  {
   "cell_type": "code",
   "execution_count": 21,
   "metadata": {
    "ExecuteTime": {
     "end_time": "2019-12-02T15:41:04.540242Z",
     "start_time": "2019-12-02T15:41:04.533934Z"
    }
   },
   "outputs": [],
   "source": [
    "#renaming respective columns to match actual meaning\n",
    "hr_am.rename(columns={ \"Job Description\":\"Job Content\",\"Qualification\":\"Job Industry\",\"Page Views\":\"Job Views\"},inplace=True)"
   ]
  },
  {
   "cell_type": "code",
   "execution_count": 22,
   "metadata": {
    "ExecuteTime": {
     "end_time": "2019-12-02T15:41:44.762759Z",
     "start_time": "2019-12-02T15:41:44.753940Z"
    }
   },
   "outputs": [],
   "source": [
    "#function keeping only 1st element of 0rd tuple\n",
    "def clean_str():\n",
    "    ans = []\n",
    "\n",
    "    try:\n",
    "        for index,row in hr_am.iterrows():\n",
    "            if row['Job Industry']:\n",
    "                literal = row['Job Industry']\n",
    "                if type(row['Job Industry']) is str:\n",
    "                    literal = ast.literal_eval(literal)\n",
    "                if not literal:\n",
    "                    ans.append(None)\n",
    "                    continue\n",
    "                                    \n",
    "                clean_st = \" \".join(literal[0][1])\n",
    "                ans.append(clean_st)\n",
    "            else:\n",
    "                ans.append(None)\n",
    "            \n",
    "    except RuntimeError as e:\n",
    "        print(e)\n",
    "        return ans\n",
    "    return ans"
   ]
  },
  {
   "cell_type": "code",
   "execution_count": 23,
   "metadata": {
    "ExecuteTime": {
     "end_time": "2019-12-02T15:41:46.553807Z",
     "start_time": "2019-12-02T15:41:46.015090Z"
    }
   },
   "outputs": [],
   "source": [
    "clean=clean_str()"
   ]
  },
  {
   "cell_type": "code",
   "execution_count": 24,
   "metadata": {
    "ExecuteTime": {
     "end_time": "2019-12-02T15:42:00.219839Z",
     "start_time": "2019-12-02T15:42:00.214472Z"
    }
   },
   "outputs": [],
   "source": [
    "hr_am[\"Job Industry\"]=clean"
   ]
  },
  {
   "cell_type": "code",
   "execution_count": 25,
   "metadata": {
    "ExecuteTime": {
     "end_time": "2019-12-02T15:42:01.084137Z",
     "start_time": "2019-12-02T15:42:01.080569Z"
    }
   },
   "outputs": [],
   "source": [
    "#function transforming list of lists and tuples into list\n",
    "#flatten = lambda *n: (e for a in n\n",
    "#    for e in (flatten(*a) if isinstance(a, (tuple, list)) else (a,)))"
   ]
  },
  {
   "cell_type": "code",
   "execution_count": 26,
   "metadata": {
    "ExecuteTime": {
     "end_time": "2019-12-02T15:42:03.477609Z",
     "start_time": "2019-12-02T15:42:03.473621Z"
    }
   },
   "outputs": [],
   "source": [
    "#getting rid of list of lists, tuples and empty lists\n",
    "#hr_am[\"Job Industry\"]=hr_am[\"Job Industry\"].apply(lambda x:list(flatten(x)))\n",
    "#hr_am[\"Job Industry\"]=hr_am[\"Job Industry\"].apply(lambda x: \"\".join(x).replace(\"[\",\"\").replace(\"]\",\"\").replace(\"(\",\"\").replace(\")\",\"\"))\n",
    "#hr_am[\"Job Industry\"].apply(lambda x:x.split(\",\")[:-1][1:]).value_counts()"
   ]
  },
  {
   "cell_type": "code",
   "execution_count": 27,
   "metadata": {
    "ExecuteTime": {
     "end_time": "2019-12-02T15:42:06.247668Z",
     "start_time": "2019-12-02T15:42:06.225355Z"
    }
   },
   "outputs": [
    {
     "data": {
      "text/html": [
       "<div>\n",
       "<style scoped>\n",
       "    .dataframe tbody tr th:only-of-type {\n",
       "        vertical-align: middle;\n",
       "    }\n",
       "\n",
       "    .dataframe tbody tr th {\n",
       "        vertical-align: top;\n",
       "    }\n",
       "\n",
       "    .dataframe thead th {\n",
       "        text-align: right;\n",
       "    }\n",
       "</style>\n",
       "<table border=\"1\" class=\"dataframe\">\n",
       "  <thead>\n",
       "    <tr style=\"text-align: right;\">\n",
       "      <th></th>\n",
       "      <th>Company</th>\n",
       "      <th>Deadline</th>\n",
       "      <th>Job Content</th>\n",
       "      <th>Job Link</th>\n",
       "      <th>Job Title</th>\n",
       "      <th>Job Views</th>\n",
       "      <th>Job Industry</th>\n",
       "      <th>Scrape_Date</th>\n",
       "      <th>_id</th>\n",
       "      <th>Skills</th>\n",
       "    </tr>\n",
       "  </thead>\n",
       "  <tbody>\n",
       "    <tr>\n",
       "      <th>0</th>\n",
       "      <td>Fora LLC - Երևան, ՀՀ</td>\n",
       "      <td>24 August, 2019</td>\n",
       "      <td>Աշխատանքի նկարագիր. \\rՍիքսթ ավտովարձույթի գործ...</td>\n",
       "      <td>http://hr.am/vacancy/view/vid/69316/t/</td>\n",
       "      <td>Ավտովարձույթի գործակալ</td>\n",
       "      <td>172</td>\n",
       "      <td>None</td>\n",
       "      <td>NaN</td>\n",
       "      <td>5d5670460cc4ac20014591fe</td>\n",
       "      <td></td>\n",
       "    </tr>\n",
       "    <tr>\n",
       "      <th>1</th>\n",
       "      <td>Decora-Group LLC - 88/8 Araratyan St., yerevan</td>\n",
       "      <td>15 August, 2019</td>\n",
       "      <td>JOB DESCRIPTION:\\r•\\t Under the supervision of...</td>\n",
       "      <td>http://hr.am/vacancy/view/vid/69315/t/</td>\n",
       "      <td>FINANCIAL SPECIALIST</td>\n",
       "      <td>134</td>\n",
       "      <td>None</td>\n",
       "      <td>NaN</td>\n",
       "      <td>5d5670460cc4ac20014591ff</td>\n",
       "      <td>'Analytical thinking '</td>\n",
       "    </tr>\n",
       "    <tr>\n",
       "      <th>2</th>\n",
       "      <td>ԱՎՏՈԲԱՏ ՍՊԸ - Հայաստան, Երևան</td>\n",
       "      <td>24 August, 2019</td>\n",
       "      <td>Պարտականությունները՝\\r• որոնել նոր արտասահմանյ...</td>\n",
       "      <td>http://hr.am/vacancy/view/vid/69311/t/</td>\n",
       "      <td>Ներմուծման, արտաքին և ներքին կապերի մենեջեր</td>\n",
       "      <td>None</td>\n",
       "      <td>None</td>\n",
       "      <td>NaN</td>\n",
       "      <td>5d5670460cc4ac2001459200</td>\n",
       "      <td>('MS Office', '3\\xa0years')'Ability to priorit...</td>\n",
       "    </tr>\n",
       "    <tr>\n",
       "      <th>3</th>\n",
       "      <td>Հայկական Ծրագրեր ՍՊԸ (Armenian Software) - Երևան</td>\n",
       "      <td>24 August, 2019</td>\n",
       "      <td>Հայկական Ծրագրեր ընկերությունը փնտրում է Համակ...</td>\n",
       "      <td>http://hr.am/vacancy/view/vid/69310/t/</td>\n",
       "      <td>Համակարգային ադմինիստրատոր</td>\n",
       "      <td>None</td>\n",
       "      <td>None</td>\n",
       "      <td>NaN</td>\n",
       "      <td>5d5670460cc4ac2001459201</td>\n",
       "      <td></td>\n",
       "    </tr>\n",
       "    <tr>\n",
       "      <th>4</th>\n",
       "      <td>Scopic Software - Remote</td>\n",
       "      <td>21 August, 2019</td>\n",
       "      <td>Scopic Software is seeking an experienced Mark...</td>\n",
       "      <td>http://hr.am/vacancy/view/vid/69309/t/</td>\n",
       "      <td>Marketing Specialist / Content Writer</td>\n",
       "      <td>None</td>\n",
       "      <td>None</td>\n",
       "      <td>NaN</td>\n",
       "      <td>5d5670460cc4ac2001459202</td>\n",
       "      <td></td>\n",
       "    </tr>\n",
       "  </tbody>\n",
       "</table>\n",
       "</div>"
      ],
      "text/plain": [
       "                                            Company         Deadline  \\\n",
       "0                              Fora LLC - Երևան, ՀՀ  24 August, 2019   \n",
       "1    Decora-Group LLC - 88/8 Araratyan St., yerevan  15 August, 2019   \n",
       "2                     ԱՎՏՈԲԱՏ ՍՊԸ - Հայաստան, Երևան  24 August, 2019   \n",
       "3  Հայկական Ծրագրեր ՍՊԸ (Armenian Software) - Երևան  24 August, 2019   \n",
       "4                          Scopic Software - Remote  21 August, 2019   \n",
       "\n",
       "                                         Job Content  \\\n",
       "0  Աշխատանքի նկարագիր. \\rՍիքսթ ավտովարձույթի գործ...   \n",
       "1  JOB DESCRIPTION:\\r•\\t Under the supervision of...   \n",
       "2  Պարտականությունները՝\\r• որոնել նոր արտասահմանյ...   \n",
       "3  Հայկական Ծրագրեր ընկերությունը փնտրում է Համակ...   \n",
       "4  Scopic Software is seeking an experienced Mark...   \n",
       "\n",
       "                                 Job Link  \\\n",
       "0  http://hr.am/vacancy/view/vid/69316/t/   \n",
       "1  http://hr.am/vacancy/view/vid/69315/t/   \n",
       "2  http://hr.am/vacancy/view/vid/69311/t/   \n",
       "3  http://hr.am/vacancy/view/vid/69310/t/   \n",
       "4  http://hr.am/vacancy/view/vid/69309/t/   \n",
       "\n",
       "                                     Job Title Job Views Job Industry  \\\n",
       "0                       Ավտովարձույթի գործակալ       172         None   \n",
       "1                         FINANCIAL SPECIALIST       134         None   \n",
       "2  Ներմուծման, արտաքին և ներքին կապերի մենեջեր      None         None   \n",
       "3                   Համակարգային ադմինիստրատոր      None         None   \n",
       "4        Marketing Specialist / Content Writer      None         None   \n",
       "\n",
       "  Scrape_Date                       _id  \\\n",
       "0         NaN  5d5670460cc4ac20014591fe   \n",
       "1         NaN  5d5670460cc4ac20014591ff   \n",
       "2         NaN  5d5670460cc4ac2001459200   \n",
       "3         NaN  5d5670460cc4ac2001459201   \n",
       "4         NaN  5d5670460cc4ac2001459202   \n",
       "\n",
       "                                              Skills  \n",
       "0                                                     \n",
       "1                             'Analytical thinking '  \n",
       "2  ('MS Office', '3\\xa0years')'Ability to priorit...  \n",
       "3                                                     \n",
       "4                                                     "
      ]
     },
     "execution_count": 27,
     "metadata": {},
     "output_type": "execute_result"
    }
   ],
   "source": [
    "hr_am.head()"
   ]
  },
  {
   "cell_type": "code",
   "execution_count": 28,
   "metadata": {
    "ExecuteTime": {
     "end_time": "2019-12-02T15:42:08.074282Z",
     "start_time": "2019-12-02T15:42:07.959417Z"
    }
   },
   "outputs": [],
   "source": [
    "hr_am=hr_am.replace(r'^\\s*$', np.nan, regex=True)\n",
    "hr_am=hr_am.where(hr_am.notna(),None)"
   ]
  },
  {
   "cell_type": "code",
   "execution_count": 30,
   "metadata": {
    "ExecuteTime": {
     "end_time": "2019-12-02T15:42:32.685352Z",
     "start_time": "2019-12-02T15:42:32.667396Z"
    }
   },
   "outputs": [
    {
     "data": {
      "text/html": [
       "<div>\n",
       "<style scoped>\n",
       "    .dataframe tbody tr th:only-of-type {\n",
       "        vertical-align: middle;\n",
       "    }\n",
       "\n",
       "    .dataframe tbody tr th {\n",
       "        vertical-align: top;\n",
       "    }\n",
       "\n",
       "    .dataframe thead th {\n",
       "        text-align: right;\n",
       "    }\n",
       "</style>\n",
       "<table border=\"1\" class=\"dataframe\">\n",
       "  <thead>\n",
       "    <tr style=\"text-align: right;\">\n",
       "      <th></th>\n",
       "      <th>Company</th>\n",
       "      <th>Deadline</th>\n",
       "      <th>Job Content</th>\n",
       "      <th>Job Link</th>\n",
       "      <th>Job Title</th>\n",
       "      <th>Job Views</th>\n",
       "      <th>Job Industry</th>\n",
       "      <th>Scrape_Date</th>\n",
       "      <th>_id</th>\n",
       "      <th>Skills</th>\n",
       "    </tr>\n",
       "  </thead>\n",
       "  <tbody>\n",
       "    <tr>\n",
       "      <th>0</th>\n",
       "      <td>Fora LLC - Երևան, ՀՀ</td>\n",
       "      <td>24 August, 2019</td>\n",
       "      <td>Աշխատանքի նկարագիր. \\rՍիքսթ ավտովարձույթի գործ...</td>\n",
       "      <td>http://hr.am/vacancy/view/vid/69316/t/</td>\n",
       "      <td>Ավտովարձույթի գործակալ</td>\n",
       "      <td>172</td>\n",
       "      <td>None</td>\n",
       "      <td>None</td>\n",
       "      <td>5d5670460cc4ac20014591fe</td>\n",
       "      <td>None</td>\n",
       "    </tr>\n",
       "    <tr>\n",
       "      <th>1</th>\n",
       "      <td>Decora-Group LLC - 88/8 Araratyan St., yerevan</td>\n",
       "      <td>15 August, 2019</td>\n",
       "      <td>JOB DESCRIPTION:\\r•\\t Under the supervision of...</td>\n",
       "      <td>http://hr.am/vacancy/view/vid/69315/t/</td>\n",
       "      <td>FINANCIAL SPECIALIST</td>\n",
       "      <td>134</td>\n",
       "      <td>None</td>\n",
       "      <td>None</td>\n",
       "      <td>5d5670460cc4ac20014591ff</td>\n",
       "      <td>'Analytical thinking '</td>\n",
       "    </tr>\n",
       "    <tr>\n",
       "      <th>2</th>\n",
       "      <td>ԱՎՏՈԲԱՏ ՍՊԸ - Հայաստան, Երևան</td>\n",
       "      <td>24 August, 2019</td>\n",
       "      <td>Պարտականությունները՝\\r• որոնել նոր արտասահմանյ...</td>\n",
       "      <td>http://hr.am/vacancy/view/vid/69311/t/</td>\n",
       "      <td>Ներմուծման, արտաքին և ներքին կապերի մենեջեր</td>\n",
       "      <td>None</td>\n",
       "      <td>None</td>\n",
       "      <td>None</td>\n",
       "      <td>5d5670460cc4ac2001459200</td>\n",
       "      <td>('MS Office', '3\\xa0years')'Ability to priorit...</td>\n",
       "    </tr>\n",
       "    <tr>\n",
       "      <th>3</th>\n",
       "      <td>Հայկական Ծրագրեր ՍՊԸ (Armenian Software) - Երևան</td>\n",
       "      <td>24 August, 2019</td>\n",
       "      <td>Հայկական Ծրագրեր ընկերությունը փնտրում է Համակ...</td>\n",
       "      <td>http://hr.am/vacancy/view/vid/69310/t/</td>\n",
       "      <td>Համակարգային ադմինիստրատոր</td>\n",
       "      <td>None</td>\n",
       "      <td>None</td>\n",
       "      <td>None</td>\n",
       "      <td>5d5670460cc4ac2001459201</td>\n",
       "      <td>None</td>\n",
       "    </tr>\n",
       "    <tr>\n",
       "      <th>4</th>\n",
       "      <td>Scopic Software - Remote</td>\n",
       "      <td>21 August, 2019</td>\n",
       "      <td>Scopic Software is seeking an experienced Mark...</td>\n",
       "      <td>http://hr.am/vacancy/view/vid/69309/t/</td>\n",
       "      <td>Marketing Specialist / Content Writer</td>\n",
       "      <td>None</td>\n",
       "      <td>None</td>\n",
       "      <td>None</td>\n",
       "      <td>5d5670460cc4ac2001459202</td>\n",
       "      <td>None</td>\n",
       "    </tr>\n",
       "  </tbody>\n",
       "</table>\n",
       "</div>"
      ],
      "text/plain": [
       "                                            Company         Deadline  \\\n",
       "0                              Fora LLC - Երևան, ՀՀ  24 August, 2019   \n",
       "1    Decora-Group LLC - 88/8 Araratyan St., yerevan  15 August, 2019   \n",
       "2                     ԱՎՏՈԲԱՏ ՍՊԸ - Հայաստան, Երևան  24 August, 2019   \n",
       "3  Հայկական Ծրագրեր ՍՊԸ (Armenian Software) - Երևան  24 August, 2019   \n",
       "4                          Scopic Software - Remote  21 August, 2019   \n",
       "\n",
       "                                         Job Content  \\\n",
       "0  Աշխատանքի նկարագիր. \\rՍիքսթ ավտովարձույթի գործ...   \n",
       "1  JOB DESCRIPTION:\\r•\\t Under the supervision of...   \n",
       "2  Պարտականությունները՝\\r• որոնել նոր արտասահմանյ...   \n",
       "3  Հայկական Ծրագրեր ընկերությունը փնտրում է Համակ...   \n",
       "4  Scopic Software is seeking an experienced Mark...   \n",
       "\n",
       "                                 Job Link  \\\n",
       "0  http://hr.am/vacancy/view/vid/69316/t/   \n",
       "1  http://hr.am/vacancy/view/vid/69315/t/   \n",
       "2  http://hr.am/vacancy/view/vid/69311/t/   \n",
       "3  http://hr.am/vacancy/view/vid/69310/t/   \n",
       "4  http://hr.am/vacancy/view/vid/69309/t/   \n",
       "\n",
       "                                     Job Title Job Views Job Industry  \\\n",
       "0                       Ավտովարձույթի գործակալ       172         None   \n",
       "1                         FINANCIAL SPECIALIST       134         None   \n",
       "2  Ներմուծման, արտաքին և ներքին կապերի մենեջեր      None         None   \n",
       "3                   Համակարգային ադմինիստրատոր      None         None   \n",
       "4        Marketing Specialist / Content Writer      None         None   \n",
       "\n",
       "  Scrape_Date                       _id  \\\n",
       "0        None  5d5670460cc4ac20014591fe   \n",
       "1        None  5d5670460cc4ac20014591ff   \n",
       "2        None  5d5670460cc4ac2001459200   \n",
       "3        None  5d5670460cc4ac2001459201   \n",
       "4        None  5d5670460cc4ac2001459202   \n",
       "\n",
       "                                              Skills  \n",
       "0                                               None  \n",
       "1                             'Analytical thinking '  \n",
       "2  ('MS Office', '3\\xa0years')'Ability to priorit...  \n",
       "3                                               None  \n",
       "4                                               None  "
      ]
     },
     "execution_count": 30,
     "metadata": {},
     "output_type": "execute_result"
    }
   ],
   "source": [
    "hr_am.head()"
   ]
  },
  {
   "cell_type": "code",
   "execution_count": 32,
   "metadata": {
    "ExecuteTime": {
     "end_time": "2019-12-02T15:42:50.451127Z",
     "start_time": "2019-12-02T15:42:50.429145Z"
    }
   },
   "outputs": [],
   "source": [
    "merged=pd.concat([staff_am,hr_am], ignore_index=True, sort=True)"
   ]
  },
  {
   "cell_type": "code",
   "execution_count": 33,
   "metadata": {
    "ExecuteTime": {
     "end_time": "2019-12-02T15:42:52.285618Z",
     "start_time": "2019-12-02T15:42:52.251707Z"
    }
   },
   "outputs": [
    {
     "data": {
      "text/html": [
       "<div>\n",
       "<style scoped>\n",
       "    .dataframe tbody tr th:only-of-type {\n",
       "        vertical-align: middle;\n",
       "    }\n",
       "\n",
       "    .dataframe tbody tr th {\n",
       "        vertical-align: top;\n",
       "    }\n",
       "\n",
       "    .dataframe thead th {\n",
       "        text-align: right;\n",
       "    }\n",
       "</style>\n",
       "<table border=\"1\" class=\"dataframe\">\n",
       "  <thead>\n",
       "    <tr style=\"text-align: right;\">\n",
       "      <th></th>\n",
       "      <th>Company</th>\n",
       "      <th>Company Industry</th>\n",
       "      <th>Deadline</th>\n",
       "      <th>Employment Term</th>\n",
       "      <th>Employment Type</th>\n",
       "      <th>Job Content</th>\n",
       "      <th>Job Industry</th>\n",
       "      <th>Job Link</th>\n",
       "      <th>Job Location</th>\n",
       "      <th>Job Title</th>\n",
       "      <th>Job Views</th>\n",
       "      <th>Salary</th>\n",
       "      <th>Scrape_Date</th>\n",
       "      <th>Skills</th>\n",
       "      <th>_id</th>\n",
       "    </tr>\n",
       "  </thead>\n",
       "  <tbody>\n",
       "    <tr>\n",
       "      <th>0</th>\n",
       "      <td>Mamble</td>\n",
       "      <td>Information technologies</td>\n",
       "      <td>27 July 2019</td>\n",
       "      <td>Permanent</td>\n",
       "      <td>Full time</td>\n",
       "      <td>'\\nDESCRIPTION\\nMamble seeks for a strong Fron...</td>\n",
       "      <td>Software development</td>\n",
       "      <td>https://staff.am/en/front-end-developer-112</td>\n",
       "      <td>Yerevan</td>\n",
       "      <td>Front-end Developer</td>\n",
       "      <td>100</td>\n",
       "      <td>None</td>\n",
       "      <td>None</td>\n",
       "      <td>'JavaScript Frameworks', 'JavaScript'</td>\n",
       "      <td>5d15241ac8d3f9226842a407</td>\n",
       "    </tr>\n",
       "    <tr>\n",
       "      <th>1</th>\n",
       "      <td>PicsArt</td>\n",
       "      <td>Information technologies</td>\n",
       "      <td>27 July 2019</td>\n",
       "      <td>Permanent</td>\n",
       "      <td>Full time</td>\n",
       "      <td>'\\nAs a QA Engineer at PicsArt, you’ll ensure ...</td>\n",
       "      <td>Quality Assurance /Control</td>\n",
       "      <td>https://staff.am/en/qa-engineer-175</td>\n",
       "      <td>Yerevan</td>\n",
       "      <td>QA Engineer</td>\n",
       "      <td>42</td>\n",
       "      <td>None</td>\n",
       "      <td>None</td>\n",
       "      <td>'Java', 'Python', 'QA', 'JavaScript'</td>\n",
       "      <td>5d15241ac8d3f9226842a408</td>\n",
       "    </tr>\n",
       "    <tr>\n",
       "      <th>2</th>\n",
       "      <td>PicsArt</td>\n",
       "      <td>Information technologies</td>\n",
       "      <td>27 July 2019</td>\n",
       "      <td>Permanent</td>\n",
       "      <td>Full time</td>\n",
       "      <td>'\\nPicsArt\\xa0is actively seeking for a talent...</td>\n",
       "      <td>Software development</td>\n",
       "      <td>https://staff.am/en/java-engineer</td>\n",
       "      <td>Yerevan</td>\n",
       "      <td>Java Engineer</td>\n",
       "      <td>65</td>\n",
       "      <td>None</td>\n",
       "      <td>None</td>\n",
       "      <td>'Python', 'Big Data'</td>\n",
       "      <td>5d15241ac8d3f9226842a409</td>\n",
       "    </tr>\n",
       "    <tr>\n",
       "      <th>3</th>\n",
       "      <td>Digitain</td>\n",
       "      <td>Information technologies</td>\n",
       "      <td>27 July 2019</td>\n",
       "      <td>Permanent</td>\n",
       "      <td>Full time</td>\n",
       "      <td>\"\\nDigitain is looking for a Procurement Speci...</td>\n",
       "      <td>Procurement/Logistics/Courier</td>\n",
       "      <td>https://staff.am/en/procurement-specialist-1</td>\n",
       "      <td>Yerevan</td>\n",
       "      <td>Procurement Specialist</td>\n",
       "      <td>74</td>\n",
       "      <td>email protected</td>\n",
       "      <td>None</td>\n",
       "      <td>'Flexible', 'Detail-oriented', 'Multitasking'</td>\n",
       "      <td>5d15241ac8d3f9226842a40a</td>\n",
       "    </tr>\n",
       "    <tr>\n",
       "      <th>4</th>\n",
       "      <td>PicsArt</td>\n",
       "      <td>Information technologies</td>\n",
       "      <td>27 July 2019</td>\n",
       "      <td>Permanent</td>\n",
       "      <td>Full time</td>\n",
       "      <td>'\\nAs a DevOps Engineer at PicsArt, you’ll hav...</td>\n",
       "      <td>Software development</td>\n",
       "      <td>https://staff.am/en/devops-engineer-63</td>\n",
       "      <td>Yerevan</td>\n",
       "      <td>DevOps Engineer</td>\n",
       "      <td>33</td>\n",
       "      <td>None</td>\n",
       "      <td>None</td>\n",
       "      <td>'Python', 'DevOps', 'Big Data'</td>\n",
       "      <td>5d15241ac8d3f9226842a40b</td>\n",
       "    </tr>\n",
       "  </tbody>\n",
       "</table>\n",
       "</div>"
      ],
      "text/plain": [
       "     Company           Company Industry      Deadline Employment Term  \\\n",
       "0     Mamble  Information technologies   27 July 2019       Permanent   \n",
       "1    PicsArt  Information technologies   27 July 2019       Permanent   \n",
       "2    PicsArt  Information technologies   27 July 2019       Permanent   \n",
       "3  Digitain   Information technologies   27 July 2019       Permanent   \n",
       "4    PicsArt  Information technologies   27 July 2019       Permanent   \n",
       "\n",
       "  Employment Type                                        Job Content  \\\n",
       "0      Full time   '\\nDESCRIPTION\\nMamble seeks for a strong Fron...   \n",
       "1      Full time   '\\nAs a QA Engineer at PicsArt, you’ll ensure ...   \n",
       "2      Full time   '\\nPicsArt\\xa0is actively seeking for a talent...   \n",
       "3      Full time   \"\\nDigitain is looking for a Procurement Speci...   \n",
       "4      Full time   '\\nAs a DevOps Engineer at PicsArt, you’ll hav...   \n",
       "\n",
       "                    Job Industry  \\\n",
       "0           Software development   \n",
       "1     Quality Assurance /Control   \n",
       "2           Software development   \n",
       "3  Procurement/Logistics/Courier   \n",
       "4           Software development   \n",
       "\n",
       "                                       Job Link Job Location  \\\n",
       "0   https://staff.am/en/front-end-developer-112      Yerevan   \n",
       "1           https://staff.am/en/qa-engineer-175      Yerevan   \n",
       "2             https://staff.am/en/java-engineer      Yerevan   \n",
       "3  https://staff.am/en/procurement-specialist-1      Yerevan   \n",
       "4        https://staff.am/en/devops-engineer-63      Yerevan   \n",
       "\n",
       "                Job Title Job Views           Salary Scrape_Date  \\\n",
       "0     Front-end Developer       100             None        None   \n",
       "1             QA Engineer        42             None        None   \n",
       "2           Java Engineer        65             None        None   \n",
       "3  Procurement Specialist        74  email protected        None   \n",
       "4         DevOps Engineer        33             None        None   \n",
       "\n",
       "                                          Skills                       _id  \n",
       "0          'JavaScript Frameworks', 'JavaScript'  5d15241ac8d3f9226842a407  \n",
       "1           'Java', 'Python', 'QA', 'JavaScript'  5d15241ac8d3f9226842a408  \n",
       "2                           'Python', 'Big Data'  5d15241ac8d3f9226842a409  \n",
       "3  'Flexible', 'Detail-oriented', 'Multitasking'  5d15241ac8d3f9226842a40a  \n",
       "4                 'Python', 'DevOps', 'Big Data'  5d15241ac8d3f9226842a40b  "
      ]
     },
     "execution_count": 33,
     "metadata": {},
     "output_type": "execute_result"
    }
   ],
   "source": [
    "merged.head()"
   ]
  },
  {
   "cell_type": "code",
   "execution_count": 34,
   "metadata": {
    "ExecuteTime": {
     "end_time": "2019-12-02T15:42:55.893668Z",
     "start_time": "2019-12-02T15:42:55.857761Z"
    },
    "scrolled": true
   },
   "outputs": [
    {
     "name": "stdout",
     "output_type": "stream",
     "text": [
      "<class 'pandas.core.frame.DataFrame'>\n",
      "RangeIndex: 7820 entries, 0 to 7819\n",
      "Data columns (total 15 columns):\n",
      "Company             7805 non-null object\n",
      "Company Industry    4542 non-null object\n",
      "Deadline            7805 non-null object\n",
      "Employment Term     4849 non-null object\n",
      "Employment Type     4849 non-null object\n",
      "Job Content         7804 non-null object\n",
      "Job Industry        4902 non-null object\n",
      "Job Link            7820 non-null object\n",
      "Job Location        4835 non-null object\n",
      "Job Title           7805 non-null object\n",
      "Job Views           6470 non-null object\n",
      "Salary              3628 non-null object\n",
      "Scrape_Date         899 non-null object\n",
      "Skills              5482 non-null object\n",
      "_id                 7820 non-null object\n",
      "dtypes: object(15)\n",
      "memory usage: 916.5+ KB\n"
     ]
    }
   ],
   "source": [
    "merged.info()"
   ]
  },
  {
   "cell_type": "code",
   "execution_count": 35,
   "metadata": {
    "ExecuteTime": {
     "end_time": "2019-12-02T15:44:43.134402Z",
     "start_time": "2019-12-02T15:44:32.958992Z"
    }
   },
   "outputs": [],
   "source": [
    "#merged.to_excel(\"Merged.xlsx\", index=False)"
   ]
  }
 ],
 "metadata": {
  "kernelspec": {
   "display_name": "Python 3",
   "language": "python",
   "name": "python3"
  },
  "language_info": {
   "codemirror_mode": {
    "name": "ipython",
    "version": 3
   },
   "file_extension": ".py",
   "mimetype": "text/x-python",
   "name": "python",
   "nbconvert_exporter": "python",
   "pygments_lexer": "ipython3",
   "version": "3.7.1"
  },
  "toc": {
   "base_numbering": 1,
   "nav_menu": {},
   "number_sections": true,
   "sideBar": true,
   "skip_h1_title": false,
   "title_cell": "Table of Contents",
   "title_sidebar": "Contents",
   "toc_cell": false,
   "toc_position": {},
   "toc_section_display": true,
   "toc_window_display": false
  }
 },
 "nbformat": 4,
 "nbformat_minor": 2
}
